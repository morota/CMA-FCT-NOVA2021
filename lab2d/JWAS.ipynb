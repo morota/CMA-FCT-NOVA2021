{
 "cells": [
  {
   "cell_type": "code",
   "execution_count": 2,
   "id": "7fadb1ac-3e38-4019-ac26-4af39ec227b9",
   "metadata": {},
   "outputs": [],
   "source": [
    "# Install Julia from https://julialang.org/\n",
    "\n",
    "# Install JWAS from https://reworkhow.github.io/JWAS.jl/latest/\n"
   ]
  },
  {
   "cell_type": "code",
   "execution_count": null,
   "id": "137ee049-269a-4184-9dcd-0046ac50d71e",
   "metadata": {},
   "outputs": [],
   "source": [
    "# Single-trait analysis - https://github.com/reworkhow/JWAS.jl/wiki/Single-Trait-Analysis"
   ]
  },
  {
   "cell_type": "code",
   "execution_count": null,
   "id": "cb8647c3-fe3b-4687-9cb9-4f851cf5b21e",
   "metadata": {},
   "outputs": [],
   "source": [
    "# Step 1: Load packages"
   ]
  },
  {
   "cell_type": "code",
   "execution_count": 37,
   "id": "2eb0830b-ee75-4912-b275-54b0090fc9b1",
   "metadata": {},
   "outputs": [],
   "source": [
    "using JWAS,DataFrames,CSV,Statistics,JWAS.Datasets"
   ]
  },
  {
   "cell_type": "code",
   "execution_count": 38,
   "id": "5bb92302-5e91-4bf9-b145-b098ac95a55d",
   "metadata": {},
   "outputs": [],
   "source": [
    "# Step 2: Read data "
   ]
  },
  {
   "cell_type": "code",
   "execution_count": 39,
   "id": "7a13b0a9-0f7f-4439-b589-9708ac9a4189",
   "metadata": {},
   "outputs": [
    {
     "data": {
      "text/plain": [
       "\"/Users/gota/.julia/packages/JWAS/6mjQ8/src/4.Datasets/src/../data/genotypes.csv\""
      ]
     },
     "execution_count": 39,
     "metadata": {},
     "output_type": "execute_result"
    }
   ],
   "source": [
    "phenofile  = dataset(\"phenotypes.csv\")\n",
    "pedfile    = dataset(\"pedigree.csv\")\n",
    "genofile   = dataset(\"genotypes.csv\")"
   ]
  },
  {
   "cell_type": "code",
   "execution_count": 40,
   "id": "8bcfa745-898c-4d70-880d-975776ad1999",
   "metadata": {},
   "outputs": [
    {
     "name": "stdout",
     "output_type": "stream",
     "text": [
      "\u001b[32mThe delimiter in pedigree.csv is ','.\u001b[39m\n",
      "Pedigree information:\n",
      "#individuals: 100\n",
      "#sires:       39\n",
      "#dams:        38\n",
      "#founders:    20\n",
      "\u001b[32mThe delimiterd in genotypes.csv is ','. \u001b[39m\u001b[32mThe header (marker IDs) is provided in genotypes.csv.\u001b[39m\n",
      "Genotype informatin:\n",
      "#markers: 1000; #individuals: 60\n"
     ]
    }
   ],
   "source": [
    "phenotypes = CSV.read(phenofile,DataFrame,delim = ',',header=true,missingstrings=[\"NA\"])\n",
    "pedigree   = get_pedigree(pedfile,separator=\",\",header=true);\n",
    "genotypes  = get_genotypes(genofile,separator=',',method=\"BayesC\");"
   ]
  },
  {
   "cell_type": "code",
   "execution_count": 41,
   "id": "094c60f8-c92e-4cc3-a9a5-46bab492aadf",
   "metadata": {},
   "outputs": [
    {
     "data": {
      "text/html": [
       "<table class=\"data-frame\"><thead><tr><th></th><th>ID</th><th>y1</th><th>y2</th><th>y3</th><th>x1</th><th>x2</th><th>x3</th><th>dam</th><th>bv1</th></tr><tr><th></th><th>String</th><th>Float64</th><th>Float64</th><th>Float64</th><th>Float64</th><th>String</th><th>String</th><th>String?</th><th>Float64</th></tr></thead><tbody><p>5 rows × 11 columns (omitted printing of 2 columns)</p><tr><th>1</th><td>a1</td><td>-0.579682</td><td>-0.0582089</td><td>1.0456</td><td>0.77</td><td>g1</td><td>m</td><td><em>missing</em></td><td>-1.07018</td></tr><tr><th>2</th><td>a2</td><td>-2.02246</td><td>-2.3843</td><td>-1.57196</td><td>-1.02</td><td>g2</td><td>m</td><td><em>missing</em></td><td>-1.03328</td></tr><tr><th>3</th><td>a3</td><td>-1.48071</td><td>-0.421258</td><td>-0.272245</td><td>0.52</td><td>g1</td><td>f</td><td><em>missing</em></td><td>-1.2916</td></tr><tr><th>4</th><td>a4</td><td>-3.03031</td><td>-2.0634</td><td>-0.604634</td><td>-1.05</td><td>g4</td><td>m</td><td><em>missing</em></td><td>-1.39308</td></tr><tr><th>5</th><td>a5</td><td>2.18819</td><td>2.22425</td><td>1.72306</td><td>2.06</td><td>g3</td><td>m</td><td><em>missing</em></td><td>0.267546</td></tr></tbody></table>"
      ],
      "text/latex": [
       "\\begin{tabular}{r|cccccccccc}\n",
       "\t& ID & y1 & y2 & y3 & x1 & x2 & x3 & dam & bv1 & \\\\\n",
       "\t\\hline\n",
       "\t& String & Float64 & Float64 & Float64 & Float64 & String & String & String? & Float64 & \\\\\n",
       "\t\\hline\n",
       "\t1 & a1 & -0.579682 & -0.0582089 & 1.0456 & 0.77 & g1 & m & \\emph{missing} & -1.07018 & $\\dots$ \\\\\n",
       "\t2 & a2 & -2.02246 & -2.3843 & -1.57196 & -1.02 & g2 & m & \\emph{missing} & -1.03328 & $\\dots$ \\\\\n",
       "\t3 & a3 & -1.48071 & -0.421258 & -0.272245 & 0.52 & g1 & f & \\emph{missing} & -1.2916 & $\\dots$ \\\\\n",
       "\t4 & a4 & -3.03031 & -2.0634 & -0.604634 & -1.05 & g4 & m & \\emph{missing} & -1.39308 & $\\dots$ \\\\\n",
       "\t5 & a5 & 2.18819 & 2.22425 & 1.72306 & 2.06 & g3 & m & \\emph{missing} & 0.267546 & $\\dots$ \\\\\n",
       "\\end{tabular}\n"
      ],
      "text/plain": [
       "\u001b[1m5×11 DataFrame\u001b[0m\n",
       "\u001b[1m Row \u001b[0m│\u001b[1m ID     \u001b[0m\u001b[1m y1        \u001b[0m\u001b[1m y2         \u001b[0m\u001b[1m y3        \u001b[0m\u001b[1m x1      \u001b[0m\u001b[1m x2     \u001b[0m\u001b[1m x3     \u001b[0m\u001b[1m dam \u001b[0m ⋯\n",
       "\u001b[1m     \u001b[0m│\u001b[90m String \u001b[0m\u001b[90m Float64   \u001b[0m\u001b[90m Float64    \u001b[0m\u001b[90m Float64   \u001b[0m\u001b[90m Float64 \u001b[0m\u001b[90m String \u001b[0m\u001b[90m String \u001b[0m\u001b[90m Stri\u001b[0m ⋯\n",
       "─────┼──────────────────────────────────────────────────────────────────────────\n",
       "   1 │ a1      -0.579682  -0.0582089   1.0456       0.77  g1      m      \u001b[90m miss\u001b[0m ⋯\n",
       "   2 │ a2      -2.02246   -2.3843     -1.57196     -1.02  g2      m      \u001b[90m miss\u001b[0m\n",
       "   3 │ a3      -1.48071   -0.421258   -0.272245     0.52  g1      f      \u001b[90m miss\u001b[0m\n",
       "   4 │ a4      -3.03031   -2.0634     -0.604634    -1.05  g4      m      \u001b[90m miss\u001b[0m\n",
       "   5 │ a5       2.18819    2.22425     1.72306      2.06  g3      m      \u001b[90m miss\u001b[0m ⋯\n",
       "\u001b[36m                                                               4 columns omitted\u001b[0m"
      ]
     },
     "execution_count": 41,
     "metadata": {},
     "output_type": "execute_result"
    }
   ],
   "source": [
    "first(phenotypes,5)"
   ]
  },
  {
   "cell_type": "code",
   "execution_count": 42,
   "id": "c40dc157-731c-4570-80f1-755016a2ccb4",
   "metadata": {},
   "outputs": [],
   "source": [
    "# Step 3: Build Model Equations"
   ]
  },
  {
   "cell_type": "code",
   "execution_count": 43,
   "id": "3316aeda-e615-4f39-b1c8-f4380b4545e8",
   "metadata": {},
   "outputs": [
    {
     "data": {
      "text/plain": [
       "\"y1 = intercept + x1 + x2 + x2*x3 + ID + dam + genotypes\""
      ]
     },
     "execution_count": 43,
     "metadata": {},
     "output_type": "execute_result"
    }
   ],
   "source": [
    "model_equation  =\"y1 = intercept + x1 + x2 + x2*x3 + ID + dam + genotypes\""
   ]
  },
  {
   "cell_type": "code",
   "execution_count": 44,
   "id": "59f07cee-a52a-47da-8e23-f515ec879541",
   "metadata": {},
   "outputs": [],
   "source": [
    "model = build_model(model_equation);"
   ]
  },
  {
   "cell_type": "code",
   "execution_count": 45,
   "id": "1abd66a8-a528-423f-b587-5045bc8b77e6",
   "metadata": {},
   "outputs": [],
   "source": [
    "# Step 4: Set Factors or Covariates"
   ]
  },
  {
   "cell_type": "code",
   "execution_count": 46,
   "id": "cfb60ded-35c9-4ea2-a952-f953d8e6a264",
   "metadata": {},
   "outputs": [],
   "source": [
    "set_covariate(model,\"x1\");"
   ]
  },
  {
   "cell_type": "code",
   "execution_count": 47,
   "id": "8481056c-dcca-42eb-829a-555ea2239464",
   "metadata": {},
   "outputs": [],
   "source": [
    "# Step 5: Set Random or Fixed Effects"
   ]
  },
  {
   "cell_type": "code",
   "execution_count": 48,
   "id": "918afc48-b356-48c6-aca9-84299a8cd4e9",
   "metadata": {},
   "outputs": [],
   "source": [
    "set_random(model,\"x2\");\n",
    "# set_random(model,\"ID dam\",pedigree);"
   ]
  },
  {
   "cell_type": "code",
   "execution_count": 49,
   "id": "0d099ef4-e8b7-447d-8dca-f77ce1518536",
   "metadata": {},
   "outputs": [],
   "source": [
    "# # Step 6: Run Analysis"
   ]
  },
  {
   "cell_type": "code",
   "execution_count": 50,
   "id": "b2f84a94-ff0f-4abb-800e-2bbba5c8e90a",
   "metadata": {},
   "outputs": [
    {
     "name": "stdout",
     "output_type": "stream",
     "text": [
      "\u001b[32mThe folder results is created to save results.\u001b[39m\n",
      "\u001b[32mChecking genotypes...\u001b[39m\n",
      "\u001b[32mChecking phenotypes...\u001b[39m\n",
      "\u001b[32mIndividual IDs (strings) are provided in the first column of the phenotypic data.\u001b[39m\n",
      "\u001b[31mIn this complete genomic data (non-single-step) analyis, 40 phenotyped individuals are not genotyped. These are removed from the analysis.\u001b[39m\n",
      "\u001b[32mPredicted values for individuals of interest will be obtained as the summation of Any[] (Note that genomic data is always included for now).\u001b[39m\u001b[32mPhenotypes for 60 observations are used in the analysis.These individual IDs are saved in the file IDs_for_individuals_with_phenotypes.txt.\u001b[39m\n",
      "\u001b[32mPrior information for genomic variance is not provided and is generated from the data.\u001b[39m\n",
      "\u001b[32mPrior information for residual variance is not provided and is generated from the data.\u001b[39m\n",
      "\u001b[32mPrior information for random effect variance is not provided and is generated from the data.\u001b[39m\n",
      "\n",
      "The prior for marker effects variance is calculated from the genetic variance and π.\n",
      "The mean of the prior for the marker effects variance is: 0.003622\n",
      "\n",
      "\n",
      "\n",
      "\u001b[0m\u001b[1mA Linear Mixed Model was build using model equations:\u001b[22m\n",
      "\n",
      "y1 = intercept + x1 + x2 + x2*x3 + ID + dam + genotypes\n",
      "\n",
      "\u001b[0m\u001b[1mModel Information:\u001b[22m\n",
      "\n",
      "Term            C/F          F/R            nLevels\n",
      "intercept       factor       fixed                1\n",
      "x1              covariate    fixed                1\n",
      "x2              factor       random               5\n",
      "x2*x3           interaction  fixed               10\n",
      "ID              factor       fixed               60\n",
      "dam             factor       fixed               29\n",
      "\n",
      "\u001b[0m\u001b[1mMCMC Information:\u001b[22m\n",
      "\n",
      "chain_length                                    100\n",
      "burnin                                            0\n",
      "starting_value                                 true\n",
      "printout_frequency                              101\n",
      "output_samples_frequency                          1\n",
      "constraint                                    false\n",
      "missing_phenotypes                             true\n",
      "update_priors_frequency                           0\n",
      "seed                                          false\n",
      "\n",
      "\u001b[0m\u001b[1mHyper-parameters Information:\u001b[22m\n",
      "\n",
      "random effect variances (y1:x2):              [0.623]\n",
      "residual variances:                           0.623\n",
      "\n",
      "\u001b[0m\u001b[1mGenomic Information:\u001b[22m\n",
      "\n",
      "complete genomic data (i.e., non-single-step analysis)\n",
      "\n",
      "Genomic Category                          genotypes\n",
      "Method                                       BayesC\n",
      "genetic variances (genomic):                  1.247\n",
      "marker effect variances:                      0.004\n",
      "π                                               0.0\n",
      "estimatePi                                     true\n",
      "estimateScale                                 false\n",
      "\n",
      "\u001b[0m\u001b[1mDegree of freedom for hyper-parameters:\u001b[22m\n",
      "\n",
      "residual variances:                           4.000\n",
      "random effect variances:                      5.000\n",
      "marker effect variances:                      4.000\n",
      "\n",
      "\n",
      "\n",
      "\u001b[32mThe file results/MCMC_samples_residual_variance.txt is created to save MCMC samples for residual_variance.\u001b[39m\n",
      "\u001b[32mThe file results/MCMC_samples_marker_effects_genotypes_y1.txt is created to save MCMC samples for marker_effects_genotypes_y1.\u001b[39m\n",
      "\u001b[32mThe file results/MCMC_samples_marker_effects_variances_genotypes.txt is created to save MCMC samples for marker_effects_variances_genotypes.\u001b[39m\n",
      "\u001b[32mThe file results/MCMC_samples_pi_genotypes.txt is created to save MCMC samples for pi_genotypes.\u001b[39m\n",
      "\u001b[32mThe file results/MCMC_samples_y1.x2_variances.txt is created to save MCMC samples for y1:x2_variances.\u001b[39m\n",
      "\u001b[32mThe file results/MCMC_samples_EBV_y1.txt is created to save MCMC samples for EBV_y1.\u001b[39m\n",
      "\u001b[32mThe file results/MCMC_samples_genetic_variance.txt is created to save MCMC samples for genetic_variance.\u001b[39m\n",
      "\u001b[32mThe file results/MCMC_samples_heritability.txt is created to save MCMC samples for heritability.\u001b[39m\n"
     ]
    },
    {
     "name": "stderr",
     "output_type": "stream",
     "text": [
      "\u001b[32mrunning MCMC ...100%|███████████████████████████████████| Time: 0:00:00\u001b[39m\n"
     ]
    },
    {
     "name": "stdout",
     "output_type": "stream",
     "text": [
      "\n",
      "\n",
      "\u001b[0m\u001b[1mThe version of Julia and Platform in use:\u001b[22m\n",
      "\n",
      "Julia Version 1.6.3\n",
      "Commit ae8452a9e0 (2021-09-23 17:34 UTC)\n",
      "Platform Info:\n",
      "  OS: macOS (x86_64-apple-darwin19.5.0)\n",
      "  CPU: Intel(R) Core(TM) i5-4278U CPU @ 2.60GHz\n",
      "  WORD_SIZE: 64\n",
      "  LIBM: libopenlibm\n",
      "  LLVM: libLLVM-11.0.1 (ORCJIT, haswell)\n",
      "\n",
      "\n",
      "\u001b[0m\u001b[1mThe analysis has finished. Results are saved in the returned \u001b[22m\u001b[0m\u001b[1mvariable and text files. MCMC samples are saved in text files.\u001b[22m\n",
      "\n",
      "\n"
     ]
    }
   ],
   "source": [
    "out=runMCMC(model,phenotypes);"
   ]
  },
  {
   "cell_type": "code",
   "execution_count": 51,
   "id": "ea0e0ff6-1209-4460-96bb-4868b8dff131",
   "metadata": {},
   "outputs": [],
   "source": [
    "# Check the results"
   ]
  },
  {
   "cell_type": "code",
   "execution_count": 52,
   "id": "9447e66f-3994-4481-a1a8-33664dc28b23",
   "metadata": {},
   "outputs": [
    {
     "data": {
      "text/plain": [
       "Dict{Any, Any} with 7 entries:\n",
       "  \"EBV_y1\"                   => \u001b[1m60×3 DataFrame\u001b[0m…\n",
       "  \"heritability\"             => \u001b[1m1×3 DataFrame\u001b[0m…\n",
       "  \"location parameters\"      => \u001b[1m106×5 DataFrame\u001b[0m…\n",
       "  \"residual variance\"        => \u001b[1m1×3 DataFrame\u001b[0m…\n",
       "  \"pi_genotypes\"             => \u001b[1m1×3 DataFrame\u001b[0m…\n",
       "  \"genetic_variance\"         => \u001b[1m1×3 DataFrame\u001b[0m…\n",
       "  \"marker effects genotypes\" => \u001b[1m1000×5 DataFrame\u001b[0m…"
      ]
     },
     "execution_count": 52,
     "metadata": {},
     "output_type": "execute_result"
    }
   ],
   "source": [
    "out"
   ]
  },
  {
   "cell_type": "code",
   "execution_count": 53,
   "id": "9fb96034-5c28-4441-811a-40169a22cada",
   "metadata": {},
   "outputs": [
    {
     "data": {
      "text/plain": [
       "KeySet for a Dict{Any, Any} with 7 entries. Keys:\n",
       "  \"EBV_y1\"\n",
       "  \"heritability\"\n",
       "  \"location parameters\"\n",
       "  \"residual variance\"\n",
       "  \"pi_genotypes\"\n",
       "  \"genetic_variance\"\n",
       "  \"marker effects genotypes\""
      ]
     },
     "execution_count": 53,
     "metadata": {},
     "output_type": "execute_result"
    }
   ],
   "source": [
    "keys(out)"
   ]
  },
  {
   "cell_type": "code",
   "execution_count": 54,
   "id": "7e92dc90-a4cd-4638-a215-b1fbfa846d0d",
   "metadata": {},
   "outputs": [
    {
     "data": {
      "text/html": [
       "<table class=\"data-frame\"><thead><tr><th></th><th>Covariance</th><th>Estimate</th><th>SD</th></tr><tr><th></th><th>Any</th><th>Any</th><th>Any</th></tr></thead><tbody><p>1 rows × 3 columns</p><tr><th>1</th><td>y1</td><td>0.674308</td><td>0.129871</td></tr></tbody></table>"
      ],
      "text/latex": [
       "\\begin{tabular}{r|ccc}\n",
       "\t& Covariance & Estimate & SD\\\\\n",
       "\t\\hline\n",
       "\t& Any & Any & Any\\\\\n",
       "\t\\hline\n",
       "\t1 & y1 & 0.674308 & 0.129871 \\\\\n",
       "\\end{tabular}\n"
      ],
      "text/plain": [
       "\u001b[1m1×3 DataFrame\u001b[0m\n",
       "\u001b[1m Row \u001b[0m│\u001b[1m Covariance \u001b[0m\u001b[1m Estimate \u001b[0m\u001b[1m SD       \u001b[0m\n",
       "\u001b[1m     \u001b[0m│\u001b[90m Any        \u001b[0m\u001b[90m Any      \u001b[0m\u001b[90m Any      \u001b[0m\n",
       "─────┼────────────────────────────────\n",
       "   1 │ y1          0.674308  0.129871"
      ]
     },
     "execution_count": 54,
     "metadata": {},
     "output_type": "execute_result"
    }
   ],
   "source": [
    "out[\"heritability\"]"
   ]
  },
  {
   "cell_type": "code",
   "execution_count": 55,
   "id": "4411950c-8e69-41dd-a7ce-7e11f57f5df7",
   "metadata": {},
   "outputs": [
    {
     "data": {
      "text/html": [
       "<table class=\"data-frame\"><thead><tr><th></th><th>Covariance</th><th>Estimate</th><th>SD</th></tr><tr><th></th><th>Any</th><th>Any</th><th>Any</th></tr></thead><tbody><p>1 rows × 3 columns</p><tr><th>1</th><td>y1_y1</td><td>0.419852</td><td>0.176563</td></tr></tbody></table>"
      ],
      "text/latex": [
       "\\begin{tabular}{r|ccc}\n",
       "\t& Covariance & Estimate & SD\\\\\n",
       "\t\\hline\n",
       "\t& Any & Any & Any\\\\\n",
       "\t\\hline\n",
       "\t1 & y1\\_y1 & 0.419852 & 0.176563 \\\\\n",
       "\\end{tabular}\n"
      ],
      "text/plain": [
       "\u001b[1m1×3 DataFrame\u001b[0m\n",
       "\u001b[1m Row \u001b[0m│\u001b[1m Covariance \u001b[0m\u001b[1m Estimate \u001b[0m\u001b[1m SD       \u001b[0m\n",
       "\u001b[1m     \u001b[0m│\u001b[90m Any        \u001b[0m\u001b[90m Any      \u001b[0m\u001b[90m Any      \u001b[0m\n",
       "─────┼────────────────────────────────\n",
       "   1 │ y1_y1       0.419852  0.176563"
      ]
     },
     "execution_count": 55,
     "metadata": {},
     "output_type": "execute_result"
    }
   ],
   "source": [
    "out[\"residual variance\"]"
   ]
  },
  {
   "cell_type": "code",
   "execution_count": 56,
   "id": "fcbb88fd-817b-44d6-9b1a-ac0b81d9e43d",
   "metadata": {},
   "outputs": [
    {
     "data": {
      "text/html": [
       "<table class=\"data-frame\"><thead><tr><th></th><th>Trait</th><th>Marker_ID</th><th>Estimate</th><th>SD</th><th>Model_Frequency</th></tr><tr><th></th><th>Any</th><th>Any</th><th>Any</th><th>Any</th><th>Any</th></tr></thead><tbody><p>1,000 rows × 5 columns</p><tr><th>1</th><td>y1</td><td>m1</td><td>-0.00263039</td><td>0.0597802</td><td>0.97</td></tr><tr><th>2</th><td>y1</td><td>m2</td><td>-0.000664603</td><td>0.0614825</td><td>0.99</td></tr><tr><th>3</th><td>y1</td><td>m3</td><td>-0.000599556</td><td>0.0577818</td><td>0.99</td></tr><tr><th>4</th><td>y1</td><td>m4</td><td>0.0066331</td><td>0.0603599</td><td>0.99</td></tr><tr><th>5</th><td>y1</td><td>m5</td><td>0.000589284</td><td>0.0539395</td><td>0.99</td></tr><tr><th>6</th><td>y1</td><td>m6</td><td>0.00111894</td><td>0.0555943</td><td>0.96</td></tr><tr><th>7</th><td>y1</td><td>m7</td><td>-0.00871495</td><td>0.0512356</td><td>1.0</td></tr><tr><th>8</th><td>y1</td><td>m8</td><td>-0.00392768</td><td>0.0584464</td><td>1.0</td></tr><tr><th>9</th><td>y1</td><td>m9</td><td>0.0147966</td><td>0.0619313</td><td>0.96</td></tr><tr><th>10</th><td>y1</td><td>m10</td><td>-0.00539989</td><td>0.0573955</td><td>0.98</td></tr><tr><th>11</th><td>y1</td><td>m11</td><td>-0.0075932</td><td>0.0498612</td><td>0.98</td></tr><tr><th>12</th><td>y1</td><td>m12</td><td>-0.0088257</td><td>0.0557651</td><td>0.99</td></tr><tr><th>13</th><td>y1</td><td>m13</td><td>0.00279532</td><td>0.0553997</td><td>1.0</td></tr><tr><th>14</th><td>y1</td><td>m14</td><td>-0.00429925</td><td>0.0626974</td><td>1.0</td></tr><tr><th>15</th><td>y1</td><td>m15</td><td>-0.00370345</td><td>0.0546749</td><td>0.98</td></tr><tr><th>16</th><td>y1</td><td>m16</td><td>0.007852</td><td>0.0609379</td><td>0.98</td></tr><tr><th>17</th><td>y1</td><td>m17</td><td>-0.0025045</td><td>0.0489944</td><td>0.97</td></tr><tr><th>18</th><td>y1</td><td>m18</td><td>-0.00419738</td><td>0.0551947</td><td>0.99</td></tr><tr><th>19</th><td>y1</td><td>m19</td><td>0.00695971</td><td>0.0569986</td><td>0.97</td></tr><tr><th>20</th><td>y1</td><td>m20</td><td>-0.0132275</td><td>0.0579156</td><td>0.98</td></tr><tr><th>21</th><td>y1</td><td>m21</td><td>0.0111765</td><td>0.0548233</td><td>1.0</td></tr><tr><th>22</th><td>y1</td><td>m22</td><td>0.00644654</td><td>0.0541441</td><td>0.94</td></tr><tr><th>23</th><td>y1</td><td>m23</td><td>0.00568497</td><td>0.0558844</td><td>0.99</td></tr><tr><th>24</th><td>y1</td><td>m24</td><td>0.0128488</td><td>0.0532705</td><td>0.99</td></tr><tr><th>25</th><td>y1</td><td>m25</td><td>-0.000188212</td><td>0.0554871</td><td>0.99</td></tr><tr><th>26</th><td>y1</td><td>m26</td><td>0.00631668</td><td>0.0579117</td><td>0.98</td></tr><tr><th>27</th><td>y1</td><td>m27</td><td>-0.00385582</td><td>0.0549429</td><td>0.99</td></tr><tr><th>28</th><td>y1</td><td>m28</td><td>-0.00010695</td><td>0.0554893</td><td>0.99</td></tr><tr><th>29</th><td>y1</td><td>m29</td><td>0.00481222</td><td>0.0619971</td><td>1.0</td></tr><tr><th>30</th><td>y1</td><td>m30</td><td>0.00793779</td><td>0.0576518</td><td>0.98</td></tr><tr><th>&vellip;</th><td>&vellip;</td><td>&vellip;</td><td>&vellip;</td><td>&vellip;</td><td>&vellip;</td></tr></tbody></table>"
      ],
      "text/latex": [
       "\\begin{tabular}{r|ccccc}\n",
       "\t& Trait & Marker\\_ID & Estimate & SD & Model\\_Frequency\\\\\n",
       "\t\\hline\n",
       "\t& Any & Any & Any & Any & Any\\\\\n",
       "\t\\hline\n",
       "\t1 & y1 & m1 & -0.00263039 & 0.0597802 & 0.97 \\\\\n",
       "\t2 & y1 & m2 & -0.000664603 & 0.0614825 & 0.99 \\\\\n",
       "\t3 & y1 & m3 & -0.000599556 & 0.0577818 & 0.99 \\\\\n",
       "\t4 & y1 & m4 & 0.0066331 & 0.0603599 & 0.99 \\\\\n",
       "\t5 & y1 & m5 & 0.000589284 & 0.0539395 & 0.99 \\\\\n",
       "\t6 & y1 & m6 & 0.00111894 & 0.0555943 & 0.96 \\\\\n",
       "\t7 & y1 & m7 & -0.00871495 & 0.0512356 & 1.0 \\\\\n",
       "\t8 & y1 & m8 & -0.00392768 & 0.0584464 & 1.0 \\\\\n",
       "\t9 & y1 & m9 & 0.0147966 & 0.0619313 & 0.96 \\\\\n",
       "\t10 & y1 & m10 & -0.00539989 & 0.0573955 & 0.98 \\\\\n",
       "\t11 & y1 & m11 & -0.0075932 & 0.0498612 & 0.98 \\\\\n",
       "\t12 & y1 & m12 & -0.0088257 & 0.0557651 & 0.99 \\\\\n",
       "\t13 & y1 & m13 & 0.00279532 & 0.0553997 & 1.0 \\\\\n",
       "\t14 & y1 & m14 & -0.00429925 & 0.0626974 & 1.0 \\\\\n",
       "\t15 & y1 & m15 & -0.00370345 & 0.0546749 & 0.98 \\\\\n",
       "\t16 & y1 & m16 & 0.007852 & 0.0609379 & 0.98 \\\\\n",
       "\t17 & y1 & m17 & -0.0025045 & 0.0489944 & 0.97 \\\\\n",
       "\t18 & y1 & m18 & -0.00419738 & 0.0551947 & 0.99 \\\\\n",
       "\t19 & y1 & m19 & 0.00695971 & 0.0569986 & 0.97 \\\\\n",
       "\t20 & y1 & m20 & -0.0132275 & 0.0579156 & 0.98 \\\\\n",
       "\t21 & y1 & m21 & 0.0111765 & 0.0548233 & 1.0 \\\\\n",
       "\t22 & y1 & m22 & 0.00644654 & 0.0541441 & 0.94 \\\\\n",
       "\t23 & y1 & m23 & 0.00568497 & 0.0558844 & 0.99 \\\\\n",
       "\t24 & y1 & m24 & 0.0128488 & 0.0532705 & 0.99 \\\\\n",
       "\t25 & y1 & m25 & -0.000188212 & 0.0554871 & 0.99 \\\\\n",
       "\t26 & y1 & m26 & 0.00631668 & 0.0579117 & 0.98 \\\\\n",
       "\t27 & y1 & m27 & -0.00385582 & 0.0549429 & 0.99 \\\\\n",
       "\t28 & y1 & m28 & -0.00010695 & 0.0554893 & 0.99 \\\\\n",
       "\t29 & y1 & m29 & 0.00481222 & 0.0619971 & 1.0 \\\\\n",
       "\t30 & y1 & m30 & 0.00793779 & 0.0576518 & 0.98 \\\\\n",
       "\t$\\dots$ & $\\dots$ & $\\dots$ & $\\dots$ & $\\dots$ & $\\dots$ \\\\\n",
       "\\end{tabular}\n"
      ],
      "text/plain": [
       "\u001b[1m1000×5 DataFrame\u001b[0m\n",
       "\u001b[1m  Row \u001b[0m│\u001b[1m Trait \u001b[0m\u001b[1m Marker_ID \u001b[0m\u001b[1m Estimate     \u001b[0m\u001b[1m SD        \u001b[0m\u001b[1m Model_Frequency \u001b[0m\n",
       "\u001b[1m      \u001b[0m│\u001b[90m Any   \u001b[0m\u001b[90m Any       \u001b[0m\u001b[90m Any          \u001b[0m\u001b[90m Any       \u001b[0m\u001b[90m Any             \u001b[0m\n",
       "──────┼────────────────────────────────────────────────────────────\n",
       "    1 │ y1     m1         -0.00263039   0.0597802  0.97\n",
       "    2 │ y1     m2         -0.000664603  0.0614825  0.99\n",
       "    3 │ y1     m3         -0.000599556  0.0577818  0.99\n",
       "    4 │ y1     m4         0.0066331     0.0603599  0.99\n",
       "    5 │ y1     m5         0.000589284   0.0539395  0.99\n",
       "    6 │ y1     m6         0.00111894    0.0555943  0.96\n",
       "    7 │ y1     m7         -0.00871495   0.0512356  1.0\n",
       "    8 │ y1     m8         -0.00392768   0.0584464  1.0\n",
       "    9 │ y1     m9         0.0147966     0.0619313  0.96\n",
       "   10 │ y1     m10        -0.00539989   0.0573955  0.98\n",
       "   11 │ y1     m11        -0.0075932    0.0498612  0.98\n",
       "  ⋮   │   ⋮        ⋮           ⋮            ⋮             ⋮\n",
       "  991 │ y1     m991       0.00191559    0.0622036  1.0\n",
       "  992 │ y1     m992       0.00301917    0.056034   1.0\n",
       "  993 │ y1     m993       0.019995      0.0581645  0.99\n",
       "  994 │ y1     m994       0.00246063    0.0521301  0.99\n",
       "  995 │ y1     m995       0.00714842    0.0592823  0.98\n",
       "  996 │ y1     m996       -0.00921723   0.0564029  0.98\n",
       "  997 │ y1     m997       -0.0123882    0.0556072  0.99\n",
       "  998 │ y1     m998       -0.00303569   0.0550135  1.0\n",
       "  999 │ y1     m999       0.00378368    0.0599187  1.0\n",
       " 1000 │ y1     m1000      -0.00122055   0.0612167  0.98\n",
       "\u001b[36m                                                   979 rows omitted\u001b[0m"
      ]
     },
     "execution_count": 56,
     "metadata": {},
     "output_type": "execute_result"
    }
   ],
   "source": [
    "out[\"marker effects genotypes\"]"
   ]
  },
  {
   "cell_type": "code",
   "execution_count": 57,
   "id": "e86fe35d-40ea-4745-ac1d-6804d932bbff",
   "metadata": {},
   "outputs": [],
   "source": [
    "# Bayesian marker effect SEM-GWAS"
   ]
  },
  {
   "cell_type": "code",
   "execution_count": 58,
   "id": "d91db5e0-e345-4ebf-9dc2-2ccb77d019d5",
   "metadata": {},
   "outputs": [],
   "source": [
    "using JWAS,DataFrames,CSV,Statistics,JWAS.Datasets"
   ]
  },
  {
   "cell_type": "code",
   "execution_count": 59,
   "id": "b8617842-b1d5-4844-ae60-9534b98a7129",
   "metadata": {},
   "outputs": [
    {
     "name": "stdout",
     "output_type": "stream",
     "text": [
      "\u001b[32mThe delimiter in pedigree.csv is ','.\u001b[39m\n",
      "Pedigree information:\n",
      "#individuals: 100\n",
      "#sires:       39\n",
      "#dams:        38\n",
      "#founders:    20\n",
      "\u001b[32mThe delimiterd in genotypes.csv is ','. \u001b[39m\u001b[32mThe header (marker IDs) is provided in genotypes.csv.\u001b[39m\n",
      "Genotype informatin:\n",
      "#markers: 1000; #individuals: 60\n"
     ]
    },
    {
     "data": {
      "text/html": [
       "<table class=\"data-frame\"><thead><tr><th></th><th>ID</th><th>y1</th><th>y2</th><th>y3</th><th>x1</th><th>x2</th><th>x3</th><th>dam</th><th>bv1</th></tr><tr><th></th><th>String</th><th>Float64</th><th>Float64</th><th>Float64</th><th>Float64</th><th>String</th><th>String</th><th>String?</th><th>Float64</th></tr></thead><tbody><p>5 rows × 11 columns (omitted printing of 2 columns)</p><tr><th>1</th><td>a1</td><td>-0.579682</td><td>-0.0582089</td><td>1.0456</td><td>0.77</td><td>g1</td><td>m</td><td><em>missing</em></td><td>-1.07018</td></tr><tr><th>2</th><td>a2</td><td>-2.02246</td><td>-2.3843</td><td>-1.57196</td><td>-1.02</td><td>g2</td><td>m</td><td><em>missing</em></td><td>-1.03328</td></tr><tr><th>3</th><td>a3</td><td>-1.48071</td><td>-0.421258</td><td>-0.272245</td><td>0.52</td><td>g1</td><td>f</td><td><em>missing</em></td><td>-1.2916</td></tr><tr><th>4</th><td>a4</td><td>-3.03031</td><td>-2.0634</td><td>-0.604634</td><td>-1.05</td><td>g4</td><td>m</td><td><em>missing</em></td><td>-1.39308</td></tr><tr><th>5</th><td>a5</td><td>2.18819</td><td>2.22425</td><td>1.72306</td><td>2.06</td><td>g3</td><td>m</td><td><em>missing</em></td><td>0.267546</td></tr></tbody></table>"
      ],
      "text/latex": [
       "\\begin{tabular}{r|cccccccccc}\n",
       "\t& ID & y1 & y2 & y3 & x1 & x2 & x3 & dam & bv1 & \\\\\n",
       "\t\\hline\n",
       "\t& String & Float64 & Float64 & Float64 & Float64 & String & String & String? & Float64 & \\\\\n",
       "\t\\hline\n",
       "\t1 & a1 & -0.579682 & -0.0582089 & 1.0456 & 0.77 & g1 & m & \\emph{missing} & -1.07018 & $\\dots$ \\\\\n",
       "\t2 & a2 & -2.02246 & -2.3843 & -1.57196 & -1.02 & g2 & m & \\emph{missing} & -1.03328 & $\\dots$ \\\\\n",
       "\t3 & a3 & -1.48071 & -0.421258 & -0.272245 & 0.52 & g1 & f & \\emph{missing} & -1.2916 & $\\dots$ \\\\\n",
       "\t4 & a4 & -3.03031 & -2.0634 & -0.604634 & -1.05 & g4 & m & \\emph{missing} & -1.39308 & $\\dots$ \\\\\n",
       "\t5 & a5 & 2.18819 & 2.22425 & 1.72306 & 2.06 & g3 & m & \\emph{missing} & 0.267546 & $\\dots$ \\\\\n",
       "\\end{tabular}\n"
      ],
      "text/plain": [
       "\u001b[1m5×11 DataFrame\u001b[0m\n",
       "\u001b[1m Row \u001b[0m│\u001b[1m ID     \u001b[0m\u001b[1m y1        \u001b[0m\u001b[1m y2         \u001b[0m\u001b[1m y3        \u001b[0m\u001b[1m x1      \u001b[0m\u001b[1m x2     \u001b[0m\u001b[1m x3     \u001b[0m\u001b[1m dam \u001b[0m ⋯\n",
       "\u001b[1m     \u001b[0m│\u001b[90m String \u001b[0m\u001b[90m Float64   \u001b[0m\u001b[90m Float64    \u001b[0m\u001b[90m Float64   \u001b[0m\u001b[90m Float64 \u001b[0m\u001b[90m String \u001b[0m\u001b[90m String \u001b[0m\u001b[90m Stri\u001b[0m ⋯\n",
       "─────┼──────────────────────────────────────────────────────────────────────────\n",
       "   1 │ a1      -0.579682  -0.0582089   1.0456       0.77  g1      m      \u001b[90m miss\u001b[0m ⋯\n",
       "   2 │ a2      -2.02246   -2.3843     -1.57196     -1.02  g2      m      \u001b[90m miss\u001b[0m\n",
       "   3 │ a3      -1.48071   -0.421258   -0.272245     0.52  g1      f      \u001b[90m miss\u001b[0m\n",
       "   4 │ a4      -3.03031   -2.0634     -0.604634    -1.05  g4      m      \u001b[90m miss\u001b[0m\n",
       "   5 │ a5       2.18819    2.22425     1.72306      2.06  g3      m      \u001b[90m miss\u001b[0m ⋯\n",
       "\u001b[36m                                                               4 columns omitted\u001b[0m"
      ]
     },
     "execution_count": 59,
     "metadata": {},
     "output_type": "execute_result"
    }
   ],
   "source": [
    "# Step 2: Read data \n",
    "phenofile  = dataset(\"phenotypes.csv\")\n",
    "pedfile    = dataset(\"pedigree.csv\")\n",
    "genofile   = dataset(\"genotypes.csv\")\n",
    "phenotypes = CSV.read(phenofile,DataFrame,delim = ',',header=true,missingstrings=[\"NA\"])\n",
    "pedigree   = get_pedigree(pedfile,separator=\",\",header=true);\n",
    "genotypes  = get_genotypes(genofile,separator=',',method=\"BayesC\");\n",
    "first(phenotypes,5)"
   ]
  },
  {
   "cell_type": "code",
   "execution_count": 60,
   "id": "06e5ab4c-e474-466d-9822-d3068e031504",
   "metadata": {},
   "outputs": [],
   "source": [
    "# Step 3: Build Model Equations\n",
    "\n",
    "model_equation  =\"y1 = intercept + x1 + x2 + x2*x3 + ID + dam + genotypes\n",
    "                  y2 = intercept + x1 + x2 + ID + genotypes\n",
    "                  y3 = intercept + x1 + ID + genotypes\";\n",
    "model = build_model(model_equation);"
   ]
  },
  {
   "cell_type": "code",
   "execution_count": 61,
   "id": "ae37f7e7-982b-4e28-b0d9-6fb381c53aca",
   "metadata": {},
   "outputs": [],
   "source": [
    "# Step 4: Set Factors or Covariates\n",
    "set_covariate(model,\"x1\");"
   ]
  },
  {
   "cell_type": "code",
   "execution_count": 62,
   "id": "14a06068-ce2c-46a0-bbe3-3e2217a02713",
   "metadata": {},
   "outputs": [
    {
     "name": "stdout",
     "output_type": "stream",
     "text": [
      "\u001b[32mx2 is not found in model equation 3.\u001b[39m\n",
      "\u001b[32mdam is not found in model equation 2.\u001b[39m\n",
      "\u001b[32mdam is not found in model equation 3.\u001b[39m\n"
     ]
    }
   ],
   "source": [
    "# Step 5: Set Random or Fixed Effects\n",
    "set_random(model,\"x2\");\n",
    "set_random(model,\"ID dam\",pedigree);"
   ]
  },
  {
   "cell_type": "code",
   "execution_count": 63,
   "id": "1fc0b077-5814-4897-bcf4-b9c43d734e7a",
   "metadata": {},
   "outputs": [
    {
     "name": "stdout",
     "output_type": "stream",
     "text": [
      "\u001b[31mThe folder results already exists.\u001b[39m\n",
      "\u001b[32mThe folder results1 is created to save results.\u001b[39m\n",
      "\u001b[32mChecking pedigree...\u001b[39m\n",
      "\u001b[32mChecking genotypes...\u001b[39m\n",
      "\u001b[32mChecking phenotypes...\u001b[39m\n",
      "\u001b[32mIndividual IDs (strings) are provided in the first column of the phenotypic data.\u001b[39m\n",
      "\u001b[31mIn this complete genomic data (non-single-step) analyis, 40 phenotyped individuals are not genotyped. These are removed from the analysis.\u001b[39m\n",
      "\u001b[32mPredicted values for individuals of interest will be obtained as the summation of Any[\"y1:ID\", \"y2:ID\", \"y3:ID\", \"y1:dam\"] (Note that genomic data is always included for now).\u001b[39m\u001b[32mPhenotypes for 60 observations are used in the analysis.These individual IDs are saved in the file IDs_for_individuals_with_phenotypes.txt.\u001b[39m\n",
      "\u001b[32mPrior information for genomic variance is not provided and is generated from the data.\u001b[39m\n",
      "\u001b[32mPrior information for residual variance is not provided and is generated from the data.\u001b[39m\n",
      "\u001b[32mPrior information for random effect variance is not provided and is generated from the data.\u001b[39m\n",
      "\u001b[32mPrior information for random effect variance is not provided and is generated from the data.\u001b[39m\n",
      "\n",
      "\u001b[0mPi (Π) is not provided.\n",
      "\u001b[0mPi (Π) is generated assuming all markers have effects on all traits.\n",
      "\n",
      "The prior for marker effects covariance matrix is calculated from genetic covariance matrix and Π.\n",
      "The mean of the prior for the marker effects covariance matrix is:\n",
      " 0.001811  0.0       0.0\n",
      " 0.0       0.001849  0.0\n",
      " 0.0       0.0       0.001429\n",
      "\n",
      "\n",
      "\n",
      "\u001b[0m\u001b[1mA Linear Mixed Model was build using model equations:\u001b[22m\n",
      "\n",
      "y1 = intercept + x1 + x2 + x2*x3 + ID + dam + genotypes\n",
      "y2 = intercept + x1 + x2 + ID + genotypes\n",
      "y3 = intercept + x1 + ID + genotypes\n",
      "\n",
      "\u001b[0m\u001b[1mModel Information:\u001b[22m\n",
      "\n",
      "Term            C/F          F/R            nLevels\n",
      "intercept       factor       fixed                1\n",
      "x1              covariate    fixed                1\n",
      "x2              factor       random               5\n",
      "x2*x3           interaction  fixed               10\n",
      "ID              factor       random             100\n",
      "dam             factor       random             100\n",
      "\n",
      "\u001b[0m\u001b[1mMCMC Information:\u001b[22m\n",
      "\n",
      "chain_length                                    100\n",
      "burnin                                            0\n",
      "starting_value                                 true\n",
      "printout_frequency                              101\n",
      "output_samples_frequency                          1\n",
      "constraint                                     true\n",
      "missing_phenotypes                            false\n",
      "update_priors_frequency                           0\n",
      "seed                                          false\n",
      "\n",
      "\u001b[0m\u001b[1mHyper-parameters Information:\u001b[22m\n",
      "\n",
      "random effect variances (y1:x2,y2:x2):\n",
      " 0.623  0.0\n",
      " 0.0    0.637\n",
      "random effect variances (y1:ID,y2:ID,y3:ID,y1:dam):\n",
      " 0.623  0.0    0.0    0.0\n",
      " 0.0    0.637  0.0    0.0\n",
      " 0.0    0.0    0.492  0.0\n",
      " 0.0    0.0    0.0    0.623\n",
      "genetic variances (polygenic):\n",
      " 0.623  0.0    0.0    0.0\n",
      " 0.0    0.637  0.0    0.0\n",
      " 0.0    0.0    0.492  0.0\n",
      " 0.0    0.0    0.0    0.623\n",
      "residual variances:           \n",
      " 0.623  0.0    0.0\n",
      " 0.0    0.637  0.0\n",
      " 0.0    0.0    0.492\n",
      "\n",
      "\u001b[0m\u001b[1mGenomic Information:\u001b[22m\n",
      "\n",
      "complete genomic data (i.e., non-single-step analysis)\n",
      "\n",
      "Genomic Category                          genotypes\n",
      "Method                                       BayesC\n",
      "genetic variances (genomic):  \n",
      " 0.623  0.0    0.0\n",
      " 0.0    0.637  0.0\n",
      " 0.0    0.0    0.492\n",
      "marker effect variances:      \n",
      " 0.002  0.0    0.0\n",
      " 0.0    0.002  0.0\n",
      " 0.0    0.0    0.001\n",
      "\n",
      "Π: (Y(yes):included; N(no):excluded)\n",
      "\n",
      "[\"y1\", \"y2\", \"y3\"]         probability\n",
      "[\"Y\", \"Y\", \"Y\"]                 1.0\n",
      "[\"N\", \"N\", \"N\"]                 0.0\n",
      "[\"N\", \"N\", \"Y\"]                 0.0\n",
      "[\"Y\", \"Y\", \"N\"]                 0.0\n",
      "[\"N\", \"Y\", \"Y\"]                 0.0\n",
      "[\"Y\", \"N\", \"N\"]                 0.0\n",
      "[\"Y\", \"N\", \"Y\"]                 0.0\n",
      "[\"N\", \"Y\", \"N\"]                 0.0\n",
      "\n",
      "estimatePi                                     true\n",
      "estimateScale                                 false\n",
      "\n",
      "\u001b[0m\u001b[1mDegree of freedom for hyper-parameters:\u001b[22m\n",
      "\n",
      "residual variances:                           7.000\n",
      "random effect variances:                      6.000\n",
      "polygenic effect variances:                   8.000\n",
      "marker effect variances:                      4.000\n",
      "\n",
      "\n",
      "\n",
      "\u001b[32mThe file results1/MCMC_samples_residual_variance.txt is created to save MCMC samples for residual_variance.\u001b[39m\n",
      "\u001b[32mThe file results1/MCMC_samples_polygenic_effects_variance.txt is created to save MCMC samples for polygenic_effects_variance.\u001b[39m\n",
      "\u001b[32mThe file results1/MCMC_samples_marker_effects_genotypes_y1.txt is created to save MCMC samples for marker_effects_genotypes_y1.\u001b[39m\n",
      "\u001b[32mThe file results1/MCMC_samples_marker_effects_genotypes_y2.txt is created to save MCMC samples for marker_effects_genotypes_y2.\u001b[39m\n",
      "\u001b[32mThe file results1/MCMC_samples_marker_effects_genotypes_y3.txt is created to save MCMC samples for marker_effects_genotypes_y3.\u001b[39m\n",
      "\u001b[32mThe file results1/MCMC_samples_marker_effects_variances_genotypes.txt is created to save MCMC samples for marker_effects_variances_genotypes.\u001b[39m\n",
      "\u001b[32mThe file results1/MCMC_samples_pi_genotypes.txt is created to save MCMC samples for pi_genotypes.\u001b[39m\n",
      "\u001b[32mThe file results1/MCMC_samples_y1.x2_y2.x2_variances.txt is created to save MCMC samples for y1:x2_y2:x2_variances.\u001b[39m\n",
      "\u001b[32mThe file results1/MCMC_samples_y1.ID_y2.ID_y3.ID_y1.dam_variances.txt is created to save MCMC samples for y1:ID_y2:ID_y3:ID_y1:dam_variances.\u001b[39m\n",
      "\u001b[32mThe file results1/MCMC_samples_EBV_y1.txt is created to save MCMC samples for EBV_y1.\u001b[39m\n",
      "\u001b[32mThe file results1/MCMC_samples_EBV_y2.txt is created to save MCMC samples for EBV_y2.\u001b[39m\n",
      "\u001b[32mThe file results1/MCMC_samples_EBV_y3.txt is created to save MCMC samples for EBV_y3.\u001b[39m\n",
      "\u001b[32mThe file results1/MCMC_samples_genetic_variance.txt is created to save MCMC samples for genetic_variance.\u001b[39m\n",
      "\u001b[32mThe file results1/MCMC_samples_heritability.txt is created to save MCMC samples for heritability.\u001b[39m\n"
     ]
    },
    {
     "name": "stderr",
     "output_type": "stream",
     "text": [
      "\u001b[32mrunning MCMC ...100%|███████████████████████████████████| Time: 0:00:02\u001b[39m\n"
     ]
    },
    {
     "name": "stdout",
     "output_type": "stream",
     "text": [
      "\n",
      "\n",
      "\u001b[0m\u001b[1mThe version of Julia and Platform in use:\u001b[22m\n",
      "\n",
      "Julia Version 1.6.3\n",
      "Commit ae8452a9e0 (2021-09-23 17:34 UTC)\n",
      "Platform Info:\n",
      "  OS: macOS (x86_64-apple-darwin19.5.0)\n",
      "  CPU: Intel(R) Core(TM) i5-4278U CPU @ 2.60GHz\n",
      "  WORD_SIZE: 64\n",
      "  LIBM: libopenlibm\n",
      "  LLVM: libLLVM-11.0.1 (ORCJIT, haswell)\n",
      "\n",
      "\n",
      "\u001b[0m\u001b[1mThe analysis has finished. Results are saved in the returned \u001b[22m\u001b[0m\u001b[1mvariable and text files. MCMC samples are saved in text files.\u001b[22m\n",
      "\n",
      "\n",
      "Compute the model frequency for each marker (the probability the marker is included in the model).\n",
      "Compute the model frequency for each marker (the probability the marker is included in the model).\n",
      "Compute the model frequency for each marker (the probability the marker is included in the model).\n",
      "Compute the model frequency for each marker (the probability the marker is included in the model).\n",
      "Compute the model frequency for each marker (the probability the marker is included in the model).\n",
      "Compute the model frequency for each marker (the probability the marker is included in the model).\n",
      "Compute the model frequency for each marker (the probability the marker is included in the model).\n",
      "Compute the model frequency for each marker (the probability the marker is included in the model).\n",
      "Compute the model frequency for each marker (the probability the marker is included in the model).\n"
     ]
    }
   ],
   "source": [
    "# Step 6: Run Analysis\n",
    "# If `causal_structure` is provided, e.g., causal_structure = [0.0 0.0 0.0;1.0 0.0 0.0;1.0 0.0 0.0] (column index affects row index, and a lower triangular matrix is required) for\n",
    "# trait 1 -> trait 2 and trait 1 -> trait 3, phenotypic causal networks will be incorporated using structure equation models.\n",
    "my_structure = [0.0 0.0 0.0\n",
    "                1.0 0.0 0.0\n",
    "                1.0 0.0 0.0]\n",
    "out=runMCMC(model,phenotypes,causal_structure=my_structure);"
   ]
  },
  {
   "cell_type": "code",
   "execution_count": 64,
   "id": "6de3f9d7-c551-49f7-8a4b-7bb246c20cf2",
   "metadata": {},
   "outputs": [
    {
     "name": "stdout",
     "output_type": "stream",
     "text": [
      "Compute the model frequency for each marker (the probability the marker is included in the model).\n"
     ]
    },
    {
     "data": {
      "text/html": [
       "<table class=\"data-frame\"><thead><tr><th></th><th>marker_ID</th><th>modelfrequency</th></tr><tr><th></th><th>Abstrac…</th><th>Float64</th></tr></thead><tbody><p>1,000 rows × 2 columns</p><tr><th>1</th><td>m1</td><td>0.98</td></tr><tr><th>2</th><td>m2</td><td>0.95</td></tr><tr><th>3</th><td>m3</td><td>0.98</td></tr><tr><th>4</th><td>m4</td><td>0.96</td></tr><tr><th>5</th><td>m5</td><td>0.92</td></tr><tr><th>6</th><td>m6</td><td>1.0</td></tr><tr><th>7</th><td>m7</td><td>0.98</td></tr><tr><th>8</th><td>m8</td><td>0.97</td></tr><tr><th>9</th><td>m9</td><td>0.95</td></tr><tr><th>10</th><td>m10</td><td>0.96</td></tr><tr><th>11</th><td>m11</td><td>0.94</td></tr><tr><th>12</th><td>m12</td><td>0.96</td></tr><tr><th>13</th><td>m13</td><td>0.98</td></tr><tr><th>14</th><td>m14</td><td>0.96</td></tr><tr><th>15</th><td>m15</td><td>0.97</td></tr><tr><th>16</th><td>m16</td><td>0.98</td></tr><tr><th>17</th><td>m17</td><td>0.96</td></tr><tr><th>18</th><td>m18</td><td>0.97</td></tr><tr><th>19</th><td>m19</td><td>1.0</td></tr><tr><th>20</th><td>m20</td><td>0.98</td></tr><tr><th>21</th><td>m21</td><td>0.99</td></tr><tr><th>22</th><td>m22</td><td>0.96</td></tr><tr><th>23</th><td>m23</td><td>0.98</td></tr><tr><th>24</th><td>m24</td><td>0.94</td></tr><tr><th>25</th><td>m25</td><td>0.97</td></tr><tr><th>26</th><td>m26</td><td>0.97</td></tr><tr><th>27</th><td>m27</td><td>0.99</td></tr><tr><th>28</th><td>m28</td><td>0.94</td></tr><tr><th>29</th><td>m29</td><td>1.0</td></tr><tr><th>30</th><td>m30</td><td>1.0</td></tr><tr><th>&vellip;</th><td>&vellip;</td><td>&vellip;</td></tr></tbody></table>"
      ],
      "text/latex": [
       "\\begin{tabular}{r|cc}\n",
       "\t& marker\\_ID & modelfrequency\\\\\n",
       "\t\\hline\n",
       "\t& Abstrac… & Float64\\\\\n",
       "\t\\hline\n",
       "\t1 & m1 & 0.98 \\\\\n",
       "\t2 & m2 & 0.95 \\\\\n",
       "\t3 & m3 & 0.98 \\\\\n",
       "\t4 & m4 & 0.96 \\\\\n",
       "\t5 & m5 & 0.92 \\\\\n",
       "\t6 & m6 & 1.0 \\\\\n",
       "\t7 & m7 & 0.98 \\\\\n",
       "\t8 & m8 & 0.97 \\\\\n",
       "\t9 & m9 & 0.95 \\\\\n",
       "\t10 & m10 & 0.96 \\\\\n",
       "\t11 & m11 & 0.94 \\\\\n",
       "\t12 & m12 & 0.96 \\\\\n",
       "\t13 & m13 & 0.98 \\\\\n",
       "\t14 & m14 & 0.96 \\\\\n",
       "\t15 & m15 & 0.97 \\\\\n",
       "\t16 & m16 & 0.98 \\\\\n",
       "\t17 & m17 & 0.96 \\\\\n",
       "\t18 & m18 & 0.97 \\\\\n",
       "\t19 & m19 & 1.0 \\\\\n",
       "\t20 & m20 & 0.98 \\\\\n",
       "\t21 & m21 & 0.99 \\\\\n",
       "\t22 & m22 & 0.96 \\\\\n",
       "\t23 & m23 & 0.98 \\\\\n",
       "\t24 & m24 & 0.94 \\\\\n",
       "\t25 & m25 & 0.97 \\\\\n",
       "\t26 & m26 & 0.97 \\\\\n",
       "\t27 & m27 & 0.99 \\\\\n",
       "\t28 & m28 & 0.94 \\\\\n",
       "\t29 & m29 & 1.0 \\\\\n",
       "\t30 & m30 & 1.0 \\\\\n",
       "\t$\\dots$ & $\\dots$ & $\\dots$ \\\\\n",
       "\\end{tabular}\n"
      ],
      "text/plain": [
       "\u001b[1m1000×2 DataFrame\u001b[0m\n",
       "\u001b[1m  Row \u001b[0m│\u001b[1m marker_ID \u001b[0m\u001b[1m modelfrequency \u001b[0m\n",
       "\u001b[1m      \u001b[0m│\u001b[90m Abstract… \u001b[0m\u001b[90m Float64        \u001b[0m\n",
       "──────┼───────────────────────────\n",
       "    1 │ m1                   0.98\n",
       "    2 │ m2                   0.95\n",
       "    3 │ m3                   0.98\n",
       "    4 │ m4                   0.96\n",
       "    5 │ m5                   0.92\n",
       "    6 │ m6                   1.0\n",
       "    7 │ m7                   0.98\n",
       "    8 │ m8                   0.97\n",
       "    9 │ m9                   0.95\n",
       "   10 │ m10                  0.96\n",
       "   11 │ m11                  0.94\n",
       "  ⋮   │     ⋮            ⋮\n",
       "  991 │ m991                 0.96\n",
       "  992 │ m992                 0.9\n",
       "  993 │ m993                 0.96\n",
       "  994 │ m994                 0.98\n",
       "  995 │ m995                 0.97\n",
       "  996 │ m996                 0.95\n",
       "  997 │ m997                 0.97\n",
       "  998 │ m998                 0.96\n",
       "  999 │ m999                 0.96\n",
       " 1000 │ m1000                0.99\n",
       "\u001b[36m                  979 rows omitted\u001b[0m"
      ]
     },
     "execution_count": 64,
     "metadata": {},
     "output_type": "execute_result"
    }
   ],
   "source": [
    "# GWAS of Direct Marker Effects on Trait y2\n",
    "\n",
    "#Compute the model frequency for each marker (the probability the marker is included in the model).\n",
    "marker_effects_file=\"results1/MCMC_samples_marker_effects_genotypes_y2.txt\"\n",
    "out = GWAS(marker_effects_file,header=true)\n",
    "\n"
   ]
  },
  {
   "cell_type": "code",
   "execution_count": 65,
   "id": "1ed78d85-cba8-43b1-84cb-bf57da27bf66",
   "metadata": {},
   "outputs": [
    {
     "name": "stdout",
     "output_type": "stream",
     "text": [
      "Compute the model frequency for each marker (the probability the marker is included in the model).\n"
     ]
    },
    {
     "data": {
      "text/html": [
       "<table class=\"data-frame\"><thead><tr><th></th><th>marker_ID</th><th>modelfrequency</th></tr><tr><th></th><th>Abstrac…</th><th>Float64</th></tr></thead><tbody><p>1,000 rows × 2 columns</p><tr><th>1</th><td>m1</td><td>0.96</td></tr><tr><th>2</th><td> m2</td><td>0.99</td></tr><tr><th>3</th><td> m3</td><td>1.0</td></tr><tr><th>4</th><td> m4</td><td>0.92</td></tr><tr><th>5</th><td> m5</td><td>0.97</td></tr><tr><th>6</th><td> m6</td><td>1.0</td></tr><tr><th>7</th><td> m7</td><td>0.93</td></tr><tr><th>8</th><td> m8</td><td>0.96</td></tr><tr><th>9</th><td> m9</td><td>0.96</td></tr><tr><th>10</th><td> m10</td><td>0.98</td></tr><tr><th>11</th><td> m11</td><td>0.98</td></tr><tr><th>12</th><td> m12</td><td>0.95</td></tr><tr><th>13</th><td> m13</td><td>0.98</td></tr><tr><th>14</th><td> m14</td><td>0.95</td></tr><tr><th>15</th><td> m15</td><td>0.93</td></tr><tr><th>16</th><td> m16</td><td>0.97</td></tr><tr><th>17</th><td> m17</td><td>0.93</td></tr><tr><th>18</th><td> m18</td><td>0.96</td></tr><tr><th>19</th><td> m19</td><td>0.96</td></tr><tr><th>20</th><td> m20</td><td>0.9</td></tr><tr><th>21</th><td> m21</td><td>0.94</td></tr><tr><th>22</th><td> m22</td><td>0.96</td></tr><tr><th>23</th><td> m23</td><td>0.97</td></tr><tr><th>24</th><td> m24</td><td>0.92</td></tr><tr><th>25</th><td> m25</td><td>0.94</td></tr><tr><th>26</th><td> m26</td><td>0.99</td></tr><tr><th>27</th><td> m27</td><td>0.92</td></tr><tr><th>28</th><td> m28</td><td>0.99</td></tr><tr><th>29</th><td> m29</td><td>0.97</td></tr><tr><th>30</th><td> m30</td><td>0.99</td></tr><tr><th>&vellip;</th><td>&vellip;</td><td>&vellip;</td></tr></tbody></table>"
      ],
      "text/latex": [
       "\\begin{tabular}{r|cc}\n",
       "\t& marker\\_ID & modelfrequency\\\\\n",
       "\t\\hline\n",
       "\t& Abstrac… & Float64\\\\\n",
       "\t\\hline\n",
       "\t1 & m1 & 0.96 \\\\\n",
       "\t2 &  m2 & 0.99 \\\\\n",
       "\t3 &  m3 & 1.0 \\\\\n",
       "\t4 &  m4 & 0.92 \\\\\n",
       "\t5 &  m5 & 0.97 \\\\\n",
       "\t6 &  m6 & 1.0 \\\\\n",
       "\t7 &  m7 & 0.93 \\\\\n",
       "\t8 &  m8 & 0.96 \\\\\n",
       "\t9 &  m9 & 0.96 \\\\\n",
       "\t10 &  m10 & 0.98 \\\\\n",
       "\t11 &  m11 & 0.98 \\\\\n",
       "\t12 &  m12 & 0.95 \\\\\n",
       "\t13 &  m13 & 0.98 \\\\\n",
       "\t14 &  m14 & 0.95 \\\\\n",
       "\t15 &  m15 & 0.93 \\\\\n",
       "\t16 &  m16 & 0.97 \\\\\n",
       "\t17 &  m17 & 0.93 \\\\\n",
       "\t18 &  m18 & 0.96 \\\\\n",
       "\t19 &  m19 & 0.96 \\\\\n",
       "\t20 &  m20 & 0.9 \\\\\n",
       "\t21 &  m21 & 0.94 \\\\\n",
       "\t22 &  m22 & 0.96 \\\\\n",
       "\t23 &  m23 & 0.97 \\\\\n",
       "\t24 &  m24 & 0.92 \\\\\n",
       "\t25 &  m25 & 0.94 \\\\\n",
       "\t26 &  m26 & 0.99 \\\\\n",
       "\t27 &  m27 & 0.92 \\\\\n",
       "\t28 &  m28 & 0.99 \\\\\n",
       "\t29 &  m29 & 0.97 \\\\\n",
       "\t30 &  m30 & 0.99 \\\\\n",
       "\t$\\dots$ & $\\dots$ & $\\dots$ \\\\\n",
       "\\end{tabular}\n"
      ],
      "text/plain": [
       "\u001b[1m1000×2 DataFrame\u001b[0m\n",
       "\u001b[1m  Row \u001b[0m│\u001b[1m marker_ID \u001b[0m\u001b[1m modelfrequency \u001b[0m\n",
       "\u001b[1m      \u001b[0m│\u001b[90m Abstract… \u001b[0m\u001b[90m Float64        \u001b[0m\n",
       "──────┼───────────────────────────\n",
       "    1 │ m1                   0.96\n",
       "    2 │  m2                  0.99\n",
       "    3 │  m3                  1.0\n",
       "    4 │  m4                  0.92\n",
       "    5 │  m5                  0.97\n",
       "    6 │  m6                  1.0\n",
       "    7 │  m7                  0.93\n",
       "    8 │  m8                  0.96\n",
       "    9 │  m9                  0.96\n",
       "   10 │  m10                 0.98\n",
       "   11 │  m11                 0.98\n",
       "  ⋮   │     ⋮            ⋮\n",
       "  991 │  m991                0.97\n",
       "  992 │  m992                0.92\n",
       "  993 │  m993                0.91\n",
       "  994 │  m994                0.95\n",
       "  995 │  m995                0.96\n",
       "  996 │  m996                0.94\n",
       "  997 │  m997                0.95\n",
       "  998 │  m998                0.96\n",
       "  999 │  m999                0.95\n",
       " 1000 │  m1000               0.98\n",
       "\u001b[36m                  979 rows omitted\u001b[0m"
      ]
     },
     "execution_count": 65,
     "metadata": {},
     "output_type": "execute_result"
    }
   ],
   "source": [
    "# GWAS of Indirect Marker Effects on Trait y2\n",
    "\n",
    "#Compute the model frequency for each marker (the probability the marker is included in the model).\n",
    "marker_effects_file=\"results1/MCMC_samples_indirect_marker_effects_genotypes_y2.txt\"\n",
    "out=GWAS(marker_effects_file,header=true)\n",
    "\n"
   ]
  },
  {
   "cell_type": "code",
   "execution_count": null,
   "id": "1d82b75c-0dc7-484d-8905-10fae9527464",
   "metadata": {},
   "outputs": [],
   "source": []
  }
 ],
 "metadata": {
  "kernelspec": {
   "display_name": "Julia 1.6.3",
   "language": "julia",
   "name": "julia-1.6"
  },
  "language_info": {
   "file_extension": ".jl",
   "mimetype": "application/julia",
   "name": "julia",
   "version": "1.6.3"
  }
 },
 "nbformat": 4,
 "nbformat_minor": 5
}
